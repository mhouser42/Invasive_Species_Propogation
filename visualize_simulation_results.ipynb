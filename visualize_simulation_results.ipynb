{
 "cells": [
  {
   "cell_type": "markdown",
   "id": "a6164fd7",
   "metadata": {
    "collapsed": false,
    "jupyter": {
     "outputs_hidden": false
    },
    "pycharm": {
     "name": "#%% md\n"
    }
   },
   "source": [
    "# Visualizing Simulation Results\n",
    "### Authors:\n",
    "##### Justin Tung:      'https://github.com/JayTongue'\n",
    "##### Matt Adam-Houser: 'https://github.com/mhouser42'"
   ]
  },
  {
   "cell_type": "code",
   "execution_count": 1,
   "id": "70ca7243",
   "metadata": {
    "collapsed": false,
    "jupyter": {
     "outputs_hidden": false
    },
    "pycharm": {
     "name": "#%%\n"
    }
   },
   "outputs": [],
   "source": [
    "import pandas as pd\n",
    "import matplotlib.pyplot as plt\n",
    "from matplotlib import cm\n",
    "import matplotlib\n",
    "import pickle\n",
    "import networkx as nx\n",
    "import ipywidgets\n",
    "from ipywidgets import widgets\n",
    "\n",
    "from run_simulation import infestation_main  # Custom function from run_simulation.py\n",
    "from visualization_functions import *"
   ]
  },
  {
   "cell_type": "markdown",
   "id": "4eaad6df",
   "metadata": {
    "collapsed": false,
    "jupyter": {
     "outputs_hidden": false
    },
    "pycharm": {
     "name": "#%% md\n"
    }
   },
   "source": [
    "---------------------------------\n",
    "----------------------------------\n",
    "# 1. Running and Visualizing One Simulation\n",
    "\n",
    "Sample output from one simulation of the infestation code:"
   ]
  },
  {
   "cell_type": "code",
   "execution_count": 2,
   "id": "3844411f",
   "metadata": {
    "collapsed": false,
    "jupyter": {
     "outputs_hidden": false
    },
    "pycharm": {
     "name": "#%%\n"
    }
   },
   "outputs": [
    {
     "data": {
      "text/html": [
       "<div>\n",
       "<style scoped>\n",
       "    .dataframe tbody tr th:only-of-type {\n",
       "        vertical-align: middle;\n",
       "    }\n",
       "\n",
       "    .dataframe tbody tr th {\n",
       "        vertical-align: top;\n",
       "    }\n",
       "\n",
       "    .dataframe thead th {\n",
       "        text-align: right;\n",
       "    }\n",
       "</style>\n",
       "<table border=\"1\" class=\"dataframe\">\n",
       "  <thead>\n",
       "    <tr style=\"text-align: right;\">\n",
       "      <th></th>\n",
       "      <th>County</th>\n",
       "      <th>month 0</th>\n",
       "      <th>month 1</th>\n",
       "      <th>month 2</th>\n",
       "      <th>month 3</th>\n",
       "      <th>month 4</th>\n",
       "      <th>month 5</th>\n",
       "      <th>month 6</th>\n",
       "      <th>month 7</th>\n",
       "      <th>month 8</th>\n",
       "      <th>month 9</th>\n",
       "      <th>month 10</th>\n",
       "      <th>month 11</th>\n",
       "      <th>month 12</th>\n",
       "      <th>month 13</th>\n",
       "      <th>month 14</th>\n",
       "      <th>month 15</th>\n",
       "    </tr>\n",
       "  </thead>\n",
       "  <tbody>\n",
       "    <tr>\n",
       "      <th>0</th>\n",
       "      <td>Cook</td>\n",
       "      <td>0.3</td>\n",
       "      <td>0.300000</td>\n",
       "      <td>0.300816</td>\n",
       "      <td>0.301545</td>\n",
       "      <td>0.302299</td>\n",
       "      <td>0.620258</td>\n",
       "      <td>0.716004</td>\n",
       "      <td>0.720207</td>\n",
       "      <td>0.723219</td>\n",
       "      <td>0.73505</td>\n",
       "      <td>0.743286</td>\n",
       "      <td>0.756947</td>\n",
       "      <td>0.768765</td>\n",
       "      <td>0.775184</td>\n",
       "      <td>0.792714</td>\n",
       "      <td>0.836764</td>\n",
       "    </tr>\n",
       "    <tr>\n",
       "      <th>1</th>\n",
       "      <td>DuPage</td>\n",
       "      <td>0.0</td>\n",
       "      <td>0.000000</td>\n",
       "      <td>0.000000</td>\n",
       "      <td>0.000000</td>\n",
       "      <td>0.000000</td>\n",
       "      <td>0.000000</td>\n",
       "      <td>0.000000</td>\n",
       "      <td>0.000000</td>\n",
       "      <td>0.000000</td>\n",
       "      <td>0.00000</td>\n",
       "      <td>0.000000</td>\n",
       "      <td>0.000000</td>\n",
       "      <td>0.000000</td>\n",
       "      <td>0.000000</td>\n",
       "      <td>0.000000</td>\n",
       "      <td>0.000000</td>\n",
       "    </tr>\n",
       "    <tr>\n",
       "      <th>2</th>\n",
       "      <td>Kane</td>\n",
       "      <td>0.1</td>\n",
       "      <td>0.103506</td>\n",
       "      <td>0.109859</td>\n",
       "      <td>0.114010</td>\n",
       "      <td>0.120071</td>\n",
       "      <td>0.208344</td>\n",
       "      <td>0.242065</td>\n",
       "      <td>0.275993</td>\n",
       "      <td>0.314983</td>\n",
       "      <td>0.33937</td>\n",
       "      <td>0.376844</td>\n",
       "      <td>0.411880</td>\n",
       "      <td>0.437187</td>\n",
       "      <td>0.478071</td>\n",
       "      <td>0.545921</td>\n",
       "      <td>0.605376</td>\n",
       "    </tr>\n",
       "    <tr>\n",
       "      <th>3</th>\n",
       "      <td>Will</td>\n",
       "      <td>0.0</td>\n",
       "      <td>0.000000</td>\n",
       "      <td>0.000000</td>\n",
       "      <td>0.000000</td>\n",
       "      <td>0.000000</td>\n",
       "      <td>0.000000</td>\n",
       "      <td>0.000000</td>\n",
       "      <td>0.000000</td>\n",
       "      <td>0.000000</td>\n",
       "      <td>0.00000</td>\n",
       "      <td>0.000000</td>\n",
       "      <td>0.000000</td>\n",
       "      <td>0.000000</td>\n",
       "      <td>0.000000</td>\n",
       "      <td>0.000000</td>\n",
       "      <td>0.000000</td>\n",
       "    </tr>\n",
       "    <tr>\n",
       "      <th>4</th>\n",
       "      <td>Winnebago</td>\n",
       "      <td>0.0</td>\n",
       "      <td>0.000000</td>\n",
       "      <td>0.000000</td>\n",
       "      <td>0.000000</td>\n",
       "      <td>0.000000</td>\n",
       "      <td>0.000000</td>\n",
       "      <td>0.000000</td>\n",
       "      <td>0.000000</td>\n",
       "      <td>0.000000</td>\n",
       "      <td>0.00000</td>\n",
       "      <td>0.000000</td>\n",
       "      <td>0.000000</td>\n",
       "      <td>0.000000</td>\n",
       "      <td>0.000000</td>\n",
       "      <td>0.000000</td>\n",
       "      <td>0.000000</td>\n",
       "    </tr>\n",
       "    <tr>\n",
       "      <th>...</th>\n",
       "      <td>...</td>\n",
       "      <td>...</td>\n",
       "      <td>...</td>\n",
       "      <td>...</td>\n",
       "      <td>...</td>\n",
       "      <td>...</td>\n",
       "      <td>...</td>\n",
       "      <td>...</td>\n",
       "      <td>...</td>\n",
       "      <td>...</td>\n",
       "      <td>...</td>\n",
       "      <td>...</td>\n",
       "      <td>...</td>\n",
       "      <td>...</td>\n",
       "      <td>...</td>\n",
       "      <td>...</td>\n",
       "      <td>...</td>\n",
       "    </tr>\n",
       "    <tr>\n",
       "      <th>97</th>\n",
       "      <td>Henderson</td>\n",
       "      <td>0.0</td>\n",
       "      <td>0.000000</td>\n",
       "      <td>0.000000</td>\n",
       "      <td>0.000000</td>\n",
       "      <td>0.000000</td>\n",
       "      <td>0.000000</td>\n",
       "      <td>0.000000</td>\n",
       "      <td>0.000000</td>\n",
       "      <td>0.000000</td>\n",
       "      <td>0.00000</td>\n",
       "      <td>0.000000</td>\n",
       "      <td>0.000000</td>\n",
       "      <td>0.000000</td>\n",
       "      <td>0.000000</td>\n",
       "      <td>0.000000</td>\n",
       "      <td>0.000000</td>\n",
       "    </tr>\n",
       "    <tr>\n",
       "      <th>98</th>\n",
       "      <td>Calhoun</td>\n",
       "      <td>0.0</td>\n",
       "      <td>0.000000</td>\n",
       "      <td>0.000000</td>\n",
       "      <td>0.000000</td>\n",
       "      <td>0.000000</td>\n",
       "      <td>0.000000</td>\n",
       "      <td>0.000000</td>\n",
       "      <td>0.000000</td>\n",
       "      <td>0.000000</td>\n",
       "      <td>0.00000</td>\n",
       "      <td>0.000000</td>\n",
       "      <td>0.000000</td>\n",
       "      <td>0.000000</td>\n",
       "      <td>0.000000</td>\n",
       "      <td>0.000000</td>\n",
       "      <td>0.000000</td>\n",
       "    </tr>\n",
       "    <tr>\n",
       "      <th>99</th>\n",
       "      <td>Schuyler</td>\n",
       "      <td>0.0</td>\n",
       "      <td>0.000000</td>\n",
       "      <td>0.000000</td>\n",
       "      <td>0.000000</td>\n",
       "      <td>0.000000</td>\n",
       "      <td>0.000000</td>\n",
       "      <td>0.000000</td>\n",
       "      <td>0.000000</td>\n",
       "      <td>0.000000</td>\n",
       "      <td>0.00000</td>\n",
       "      <td>0.000000</td>\n",
       "      <td>0.000000</td>\n",
       "      <td>0.000000</td>\n",
       "      <td>0.000000</td>\n",
       "      <td>0.000000</td>\n",
       "      <td>0.000000</td>\n",
       "    </tr>\n",
       "    <tr>\n",
       "      <th>100</th>\n",
       "      <td>Gallatin</td>\n",
       "      <td>0.0</td>\n",
       "      <td>0.000000</td>\n",
       "      <td>0.000000</td>\n",
       "      <td>0.000000</td>\n",
       "      <td>0.000000</td>\n",
       "      <td>0.000000</td>\n",
       "      <td>0.000000</td>\n",
       "      <td>0.000000</td>\n",
       "      <td>0.000000</td>\n",
       "      <td>0.00000</td>\n",
       "      <td>0.000000</td>\n",
       "      <td>0.000000</td>\n",
       "      <td>0.000000</td>\n",
       "      <td>0.000000</td>\n",
       "      <td>0.000000</td>\n",
       "      <td>0.000000</td>\n",
       "    </tr>\n",
       "    <tr>\n",
       "      <th>101</th>\n",
       "      <td>Pope</td>\n",
       "      <td>0.0</td>\n",
       "      <td>0.000000</td>\n",
       "      <td>0.000000</td>\n",
       "      <td>0.000000</td>\n",
       "      <td>0.000000</td>\n",
       "      <td>0.000000</td>\n",
       "      <td>0.000000</td>\n",
       "      <td>0.000000</td>\n",
       "      <td>0.000000</td>\n",
       "      <td>0.00000</td>\n",
       "      <td>0.000000</td>\n",
       "      <td>0.000000</td>\n",
       "      <td>0.000000</td>\n",
       "      <td>0.000000</td>\n",
       "      <td>0.000000</td>\n",
       "      <td>0.000000</td>\n",
       "    </tr>\n",
       "  </tbody>\n",
       "</table>\n",
       "<p>102 rows × 17 columns</p>\n",
       "</div>"
      ],
      "text/plain": [
       "        County  month 0   month 1   month 2   month 3   month 4   month 5  \\\n",
       "0         Cook      0.3  0.300000  0.300816  0.301545  0.302299  0.620258   \n",
       "1       DuPage      0.0  0.000000  0.000000  0.000000  0.000000  0.000000   \n",
       "2         Kane      0.1  0.103506  0.109859  0.114010  0.120071  0.208344   \n",
       "3         Will      0.0  0.000000  0.000000  0.000000  0.000000  0.000000   \n",
       "4    Winnebago      0.0  0.000000  0.000000  0.000000  0.000000  0.000000   \n",
       "..         ...      ...       ...       ...       ...       ...       ...   \n",
       "97   Henderson      0.0  0.000000  0.000000  0.000000  0.000000  0.000000   \n",
       "98     Calhoun      0.0  0.000000  0.000000  0.000000  0.000000  0.000000   \n",
       "99    Schuyler      0.0  0.000000  0.000000  0.000000  0.000000  0.000000   \n",
       "100   Gallatin      0.0  0.000000  0.000000  0.000000  0.000000  0.000000   \n",
       "101       Pope      0.0  0.000000  0.000000  0.000000  0.000000  0.000000   \n",
       "\n",
       "      month 6   month 7   month 8  month 9  month 10  month 11  month 12  \\\n",
       "0    0.716004  0.720207  0.723219  0.73505  0.743286  0.756947  0.768765   \n",
       "1    0.000000  0.000000  0.000000  0.00000  0.000000  0.000000  0.000000   \n",
       "2    0.242065  0.275993  0.314983  0.33937  0.376844  0.411880  0.437187   \n",
       "3    0.000000  0.000000  0.000000  0.00000  0.000000  0.000000  0.000000   \n",
       "4    0.000000  0.000000  0.000000  0.00000  0.000000  0.000000  0.000000   \n",
       "..        ...       ...       ...      ...       ...       ...       ...   \n",
       "97   0.000000  0.000000  0.000000  0.00000  0.000000  0.000000  0.000000   \n",
       "98   0.000000  0.000000  0.000000  0.00000  0.000000  0.000000  0.000000   \n",
       "99   0.000000  0.000000  0.000000  0.00000  0.000000  0.000000  0.000000   \n",
       "100  0.000000  0.000000  0.000000  0.00000  0.000000  0.000000  0.000000   \n",
       "101  0.000000  0.000000  0.000000  0.00000  0.000000  0.000000  0.000000   \n",
       "\n",
       "     month 13  month 14  month 15  \n",
       "0    0.775184  0.792714  0.836764  \n",
       "1    0.000000  0.000000  0.000000  \n",
       "2    0.478071  0.545921  0.605376  \n",
       "3    0.000000  0.000000  0.000000  \n",
       "4    0.000000  0.000000  0.000000  \n",
       "..        ...       ...       ...  \n",
       "97   0.000000  0.000000  0.000000  \n",
       "98   0.000000  0.000000  0.000000  \n",
       "99   0.000000  0.000000  0.000000  \n",
       "100  0.000000  0.000000  0.000000  \n",
       "101  0.000000  0.000000  0.000000  \n",
       "\n",
       "[102 rows x 17 columns]"
      ]
     },
     "execution_count": 2,
     "metadata": {},
     "output_type": "execute_result"
    }
   ],
   "source": [
    "months_run = 15\n",
    "run_mode = 'Baseline'\n",
    "simulation_df = infestation_main(run_mode, months_run) # Change this to change the number of months\n",
    "simulation_df"
   ]
  },
  {
   "cell_type": "code",
   "execution_count": 3,
   "id": "b732f8c0",
   "metadata": {
    "collapsed": false,
    "jupyter": {
     "outputs_hidden": false
    },
    "pycharm": {
     "name": "#%%\n"
    }
   },
   "outputs": [
    {
     "data": {
      "image/png": "[encoded data removed]",
      "text/plain": [
       "<Figure size 1000x1000 with 1 Axes>"
      ]
     },
     "metadata": {},
     "output_type": "display_data"
    }
   ],
   "source": [
    "visual_df = make_visual_df(simulation_df)\n",
    "\n",
    "# Make plots for each county\n",
    "plt.figure(figsize=(10,10))\n",
    "for county in visual_df.columns:\n",
    "    plt.plot(visual_df.index, visual_df[county])\n",
    "plt.xticks(ticks=range(0, months_run),\n",
    "    labels=range(0, months_run))\n",
    "plt.xlabel('Months')\n",
    "plt.ylabel('Infestation Percentage')\n",
    "plt.legend(visual_df.columns, loc=(1.01, 0), fontsize=7, ncol=2)\n",
    "plt.show()"
   ]
  },
  {
   "cell_type": "markdown",
   "id": "6a9dbdb4",
   "metadata": {
    "collapsed": false,
    "jupyter": {
     "outputs_hidden": false
    },
    "pycharm": {
     "name": "#%% md\n"
    }
   },
   "source": [
    "This graph is not very helpful. Since there are 102 Counties in Illinois, the resulting graph is messy and visually confusing. \n",
    "\n",
    "An alternative way of visualizing this data may be with a sort of heatmap instead"
   ]
  },
  {
   "cell_type": "code",
   "execution_count": 4,
   "id": "72c17852",
   "metadata": {
    "collapsed": false,
    "jupyter": {
     "outputs_hidden": false
    },
    "pycharm": {
     "name": "#%%\n"
    }
   },
   "outputs": [],
   "source": [
    "path = 'data/location'\n",
    "edges = pd.read_csv(f'{path}/county_edges.csv')\n",
    "\n",
    "CG = pickle.load(open(f'{path}/IL_graph.dat', 'rb'))\n",
    "handler = pickle.load(open(f'{path}/graph_handler_counties.dat', 'rb'))\n",
    "highways = pickle.load(open(f'{path}/osmnx_highways.dat', 'rb'))"
   ]
  },
  {
   "cell_type": "code",
   "execution_count": 5,
   "id": "ffed41ae",
   "metadata": {
    "collapsed": false,
    "jupyter": {
     "outputs_hidden": false
    },
    "pycharm": {
     "name": "#%%\n"
    }
   },
   "outputs": [
    {
     "data": {
      "application/vnd.jupyter.widget-view+json": {
       "model_id": "74ee628e09b44e19b175264795bcc79b",
       "version_major": 2,
       "version_minor": 0
      },
      "text/plain": [
       "interactive(children=(IntSlider(value=0, description='month', layout=Layout(width='800px'), max=15), Output())…"
      ]
     },
     "metadata": {},
     "output_type": "display_data"
    },
    {
     "data": {
      "text/plain": [
       "<function visualization_functions.make_network_heat(CG, simulation_df, handler, month: int)>"
      ]
     },
     "execution_count": 5,
     "metadata": {},
     "output_type": "execute_result"
    }
   ],
   "source": [
    "widgets.interact(make_network_heat,\n",
    "                 CG=widgets.fixed(CG),\n",
    "                 handler=widgets.fixed(handler),\n",
    "                 simulation_df=widgets.fixed(simulation_df),\n",
    "                 month=widgets.IntSlider(min=0, max=len(simulation_df.columns)-2, step=1, layout=widgets.Layout(width='800px')),\n",
    ")"
   ]
  },
  {
   "cell_type": "markdown",
   "id": "137e9906",
   "metadata": {
    "collapsed": false,
    "jupyter": {
     "outputs_hidden": false
    },
    "pycharm": {
     "name": "#%% md\n"
    }
   },
   "source": [
    "In order to better see the flow of infestations from week to week, we animated the slider:"
   ]
  },
  {
   "cell_type": "code",
   "execution_count": null,
   "id": "3cd2b6de",
   "metadata": {
    "collapsed": false,
    "jupyter": {
     "outputs_hidden": false
    },
    "pycharm": {
     "name": "#%%\n"
    }
   },
   "outputs": [],
   "source": [
    "play = widgets.interact(make_network_heat,\n",
    "                        CG=widgets.fixed(CG),\n",
    "                        handler=widgets.fixed(handler),\n",
    "                        simulation_df=widgets.fixed(simulation_df),month=widgets.Play(value=0,\n",
    "                                                                                      min=0,\n",
    "                                                                                      max=len(simulation_df.columns) - 2,\n",
    "                                                                                      step=1,\n",
    "                                                                                      interval=1000,\n",
    "                                                                                      disabled=False,\n",
    "                                                                                     ))"
   ]
  },
  {
   "cell_type": "markdown",
   "id": "2d8ff353",
   "metadata": {
    "collapsed": false,
    "jupyter": {
     "outputs_hidden": false
    },
    "pycharm": {
     "name": "#%% md\n"
    }
   },
   "source": [
    "Showing the infestation of the state as a whole is more helpful than each individual county:"
   ]
  },
  {
   "cell_type": "code",
   "execution_count": null,
   "id": "02a2a615",
   "metadata": {
    "collapsed": false,
    "jupyter": {
     "outputs_hidden": false
    },
    "pycharm": {
     "name": "#%%\n"
    }
   },
   "outputs": [],
   "source": [
    "avg_df = visual_df.mean(axis=1)\n",
    "plt.figure(figsize=(12,8))\n",
    "plt.plot(avg_df.index, avg_df.iloc[0:, ])\n",
    "plt.tick_params(labelsize=8)"
   ]
  },
  {
   "cell_type": "markdown",
   "id": "36268ef6",
   "metadata": {
    "collapsed": false,
    "jupyter": {
     "outputs_hidden": false
    },
    "pycharm": {
     "name": "#%% md\n"
    }
   },
   "source": [
    "--------------------------------\n",
    "# 2. Running the Simulation as a Monte Carlo and Plotting the Results\n",
    "\n",
    "With this line graph, we can run the simulation as many times as desired and compare the results."
   ]
  },
  {
   "cell_type": "markdown",
   "id": "99cfb813",
   "metadata": {
    "collapsed": false,
    "jupyter": {
     "outputs_hidden": false
    },
    "pycharm": {
     "name": "#%% md\n"
    }
   },
   "source": [
    "This interactive graph shows different run modes, different experiment durations, and different numbers of simulations."
   ]
  },
  {
   "cell_type": "code",
   "execution_count": null,
   "id": "ee82ae87",
   "metadata": {
    "collapsed": false,
    "jupyter": {
     "outputs_hidden": false
    },
    "pycharm": {
     "name": "#%%\n"
    }
   },
   "outputs": [],
   "source": [
    "widgets.interact(model_variables,\n",
    "    run_mode =['Baseline', 'Poison ToH', 'Population-Based Countermeasures', 'Quarantine'],\n",
    "    sims_run = (10, 100, 10),\n",
    "    sim_months = (1, 30, 1),\n",
    "    value='Baseline',\n",
    "    disabled=False,\n",
    "\n",
    ")"
   ]
  },
  {
   "cell_type": "markdown",
   "id": "abfd5b94",
   "metadata": {
    "collapsed": false,
    "jupyter": {
     "outputs_hidden": false
    },
    "pycharm": {
     "name": "#%% md\n"
    }
   },
   "source": [
    "------------------------------------------------\n",
    "# 3. Model the Impact of a Experimental Variable Manipulation\n",
    "\n",
    "After running multiple simulations on each model, the resulting average trend lines can be determined for each experimental varaible.\n",
    "\n",
    "Note that these simulations are extended to 30 months to show longer-term trends."
   ]
  },
  {
   "cell_type": "code",
   "execution_count": null,
   "id": "83b30fd3",
   "metadata": {
    "collapsed": false,
    "jupyter": {
     "outputs_hidden": false
    },
    "pycharm": {
     "name": "#%%\n"
    }
   },
   "outputs": [],
   "source": [
    "sims_run = 100  # RIP my RAM\n",
    "sim_months = 30\n",
    "\n",
    "all_trends = {}"
   ]
  },
  {
   "cell_type": "code",
   "execution_count": null,
   "id": "11380fa0",
   "metadata": {
    "collapsed": false,
    "jupyter": {
     "outputs_hidden": false
    },
    "pycharm": {
     "name": "#%%\n"
    }
   },
   "outputs": [],
   "source": [
    "all_trends = model_variables_avg('Baseline', sims_run, sim_months, all_trends)"
   ]
  },
  {
   "cell_type": "code",
   "execution_count": null,
   "id": "dda7f872",
   "metadata": {
    "collapsed": false,
    "jupyter": {
     "outputs_hidden": false
    },
    "pycharm": {
     "name": "#%%\n"
    }
   },
   "outputs": [],
   "source": [
    "all_trends = model_variables_avg('Poison ToH', sims_run, sim_months, all_trends)"
   ]
  },
  {
   "cell_type": "code",
   "execution_count": null,
   "id": "5a279c1f",
   "metadata": {
    "collapsed": false,
    "jupyter": {
     "outputs_hidden": false
    },
    "pycharm": {
     "name": "#%%\n"
    }
   },
   "outputs": [],
   "source": [
    "all_trends = model_variables_avg('Population-Based Countermeasures', sims_run, sim_months, all_trends)"
   ]
  },
  {
   "cell_type": "code",
   "execution_count": null,
   "id": "61192908",
   "metadata": {
    "collapsed": false,
    "jupyter": {
     "outputs_hidden": false
    },
    "pycharm": {
     "name": "#%%\n"
    }
   },
   "outputs": [],
   "source": [
    "all_trends = model_variables_avg('Quarantine', sims_run, sim_months, all_trends)"
   ]
  },
  {
   "cell_type": "markdown",
   "id": "04099ecd",
   "metadata": {
    "collapsed": false,
    "jupyter": {
     "outputs_hidden": false
    },
    "pycharm": {
     "name": "#%% md\n"
    }
   },
   "source": [
    "-----------------------------------------------\n",
    "# 4. Compare Average Trend Lines to Determine Efficacy of Interventions\n",
    "\n",
    "By comparing the derived trend lines, the effect of each proposed intervention can be compared."
   ]
  },
  {
   "cell_type": "code",
   "execution_count": null,
   "id": "dfac70f6",
   "metadata": {
    "collapsed": false,
    "jupyter": {
     "outputs_hidden": false
    },
    "pycharm": {
     "name": "#%%\n"
    }
   },
   "outputs": [],
   "source": [
    "fig, ax = plt.subplots(figsize=(15, 10))\n",
    "\n",
    "plt.xticks(ticks=range(0, sim_months+1),\n",
    "            labels=range(0, sim_months+1))\n",
    "plt.xlabel('Months')\n",
    "plt.ylabel('Infestation Percentage')\n",
    "\n",
    "for model in all_trends:\n",
    "    trend_sr = all_trends[model]\n",
    "    X = trend_sr.index.tolist()\n",
    "    Y = trend_sr.values.tolist()\n",
    "    \n",
    "    ax.plot(X, Y, label=model, linewidth=3)\n",
    "    ax.fill_between(X, Y, 0, alpha=0.05, interpolate=True)\n",
    "\n",
    "plt.grid()\n",
    "plt.legend(fontsize=12)\n",
    "plt.show()"
   ]
  },
  {
   "cell_type": "code",
   "execution_count": null,
   "id": "51cf6520-2dab-48f0-863f-bfdb87e0969b",
   "metadata": {
    "ExecuteTime": {
     "end_time": "2023-11-27T00:25:44.828959Z",
     "start_time": "2023-11-27T00:25:36.948965Z"
    },
    "pycharm": {
     "is_executing": true
    }
   },
   "outputs": [],
   "source": [
    "all_trends = model_variables_avg('Poison ToH', sims_run, sim_months, all_trends)"
   ]
  },
  {
   "cell_type": "code",
   "execution_count": null,
   "id": "b757e7f4-25e8-4e6e-a3b5-19227606c2ab",
   "metadata": {
    "ExecuteTime": {
     "end_time": "2023-11-27T00:25:53.497882Z",
     "start_time": "2023-11-27T00:25:44.833154Z"
    },
    "pycharm": {
     "is_executing": true
    }
   },
   "outputs": [],
   "source": [
    "all_trends = model_variables_avg('Population-Based Countermeasures', sims_run, sim_months, all_trends)"
   ]
  },
  {
   "cell_type": "code",
   "execution_count": null,
   "id": "908d603b-e1da-4f08-a5b9-8812277e0ae0",
   "metadata": {
    "ExecuteTime": {
     "end_time": "2023-11-27T00:26:03.013721Z",
     "start_time": "2023-11-27T00:25:53.503503Z"
    },
    "pycharm": {
     "is_executing": true
    }
   },
   "outputs": [],
   "source": [
    "all_trends = model_variables_avg('Quarantine', sims_run, sim_months, all_trends)"
   ]
  },
  {
   "cell_type": "markdown",
   "id": "81780dee-2d98-44b7-b85e-8207a2feb017",
   "metadata": {},
   "source": [
    "-----------------------------------------------\n",
    "# 4. Compare Average Trend Lines to Determine Efficacy of Interventions\n",
    "\n",
    "By comparing the derived trend lines, the effect of each proposed intervention can be compared."
   ]
  },
  {
   "cell_type": "code",
   "execution_count": null,
   "id": "6525dd21-a4f4-4a9e-b57c-c4fdc8c95621",
   "metadata": {
    "ExecuteTime": {
     "end_time": "2023-11-27T00:26:03.149213Z",
     "start_time": "2023-11-27T00:26:03.019267Z"
    },
    "pycharm": {
     "is_executing": true
    }
   },
   "outputs": [],
   "source": [
    "fig, ax = plt.subplots(figsize=(15, 10))\n",
    "\n",
    "plt.xticks(ticks=range(0, sim_months+1),\n",
    "            labels=range(0, sim_months+1))\n",
    "plt.xlabel('Months')\n",
    "plt.ylabel('Infestation Percentage')\n",
    "\n",
    "for model in all_trends:\n",
    "    trend_sr = all_trends[model]\n",
    "    X = trend_sr.index.tolist()\n",
    "    Y = trend_sr.values.tolist()\n",
    "    \n",
    "    ax.plot(X, Y, label=model, linewidth=3)\n",
    "    ax.fill_between(X, Y, 0, alpha=0.05, interpolate=True)\n",
    "\n",
    "plt.grid()\n",
    "plt.legend(fontsize=12)\n",
    "plt.show()"
   ]
  }
 ],
 "metadata": {
  "kernelspec": {
   "display_name": "Python 3 (ipykernel)",
   "language": "python",
   "name": "python3"
  },
  "language_info": {
   "codemirror_mode": {
    "name": "ipython",
    "version": 3
   },
   "file_extension": ".py",
   "mimetype": "text/x-python",
   "name": "python",
   "nbconvert_exporter": "python",
   "pygments_lexer": "ipython3",
   "version": "3.10.13"
  }
 },
 "nbformat": 4,
 "nbformat_minor": 5
}
