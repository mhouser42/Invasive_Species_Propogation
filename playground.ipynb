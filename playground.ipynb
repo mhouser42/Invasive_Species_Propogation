{
 "cells": [
  {
   "cell_type": "markdown",
   "id": "7a4da801-f967-4ddc-a965-a060d2c9d83f",
   "metadata": {},
   "source": [
    "# OSMnx practice\n",
    "## Import libraries"
   ]
  },
  {
   "cell_type": "code",
   "execution_count": null,
   "outputs": [],
   "source": [
    "import pandas as pd\n",
    "\n",
    "import networkx as nx\n",
    "import osmnx as ox\n",
    "%matplotlib inline\n",
    "ox.__version__"
   ],
   "metadata": {
    "collapsed": false,
    "pycharm": {
     "name": "#%%\n"
    }
   }
  },
  {
   "cell_type": "markdown",
   "source": [
    "## loading"
   ],
   "metadata": {
    "collapsed": false,
    "pycharm": {
     "name": "#%% md\n"
    }
   }
  },
  {
   "cell_type": "code",
   "execution_count": null,
   "outputs": [],
   "source": [
    "G = ox.geocode_to_gdf('Illinois, USA')\n",
    "gdf"
   ],
   "metadata": {
    "collapsed": false,
    "pycharm": {
     "name": "#%%\n"
    }
   }
  },
  {
   "cell_type": "code",
   "execution_count": 24,
   "id": "81c332a7-e12d-404c-b0d1-86bc9305bb56",
   "metadata": {},
   "outputs": [
    {
     "ename": "ConfigurationError",
     "evalue": "Using Nominatim with default or sample `user_agent` \"geopy/2.4.0\" is strongly discouraged, as it violates Nominatim's ToS https://operations.osmfoundation.org/policies/nominatim/ and may possibly cause 403 and 429 HTTP errors. Please specify a custom `user_agent` with `Nominatim(user_agent=\"my-application\")` or by overriding the default `user_agent`: `geopy.geocoders.options.default_user_agent = \"my-application\"`.",
     "output_type": "error",
     "traceback": [
      "\u001B[1;31m---------------------------------------------------------------------------\u001B[0m",
      "\u001B[1;31mConfigurationError\u001B[0m                        Traceback (most recent call last)",
      "Cell \u001B[1;32mIn[24], line 1\u001B[0m\n\u001B[1;32m----> 1\u001B[0m nom \u001B[38;5;241m=\u001B[39m \u001B[43mNominatim\u001B[49m\u001B[43m(\u001B[49m\u001B[43m)\u001B[49m\n",
      "File \u001B[1;32m~\\.conda\\envs\\ox\\lib\\site-packages\\geopy\\geocoders\\nominatim.py:105\u001B[0m, in \u001B[0;36mNominatim.__init__\u001B[1;34m(self, timeout, proxies, domain, scheme, user_agent, ssl_context, adapter_factory)\u001B[0m\n\u001B[0;32m    101\u001B[0m \u001B[38;5;28mself\u001B[39m\u001B[38;5;241m.\u001B[39mdomain \u001B[38;5;241m=\u001B[39m domain\u001B[38;5;241m.\u001B[39mstrip(\u001B[38;5;124m'\u001B[39m\u001B[38;5;124m/\u001B[39m\u001B[38;5;124m'\u001B[39m)\n\u001B[0;32m    103\u001B[0m \u001B[38;5;28;01mif\u001B[39;00m (\u001B[38;5;28mself\u001B[39m\u001B[38;5;241m.\u001B[39mdomain \u001B[38;5;241m==\u001B[39m _DEFAULT_NOMINATIM_DOMAIN\n\u001B[0;32m    104\u001B[0m         \u001B[38;5;129;01mand\u001B[39;00m \u001B[38;5;28mself\u001B[39m\u001B[38;5;241m.\u001B[39mheaders[\u001B[38;5;124m'\u001B[39m\u001B[38;5;124mUser-Agent\u001B[39m\u001B[38;5;124m'\u001B[39m] \u001B[38;5;129;01min\u001B[39;00m _REJECTED_USER_AGENTS):\n\u001B[1;32m--> 105\u001B[0m     \u001B[38;5;28;01mraise\u001B[39;00m ConfigurationError(\n\u001B[0;32m    106\u001B[0m         \u001B[38;5;124m'\u001B[39m\u001B[38;5;124mUsing Nominatim with default or sample `user_agent` \u001B[39m\u001B[38;5;124m\"\u001B[39m\u001B[38;5;132;01m%s\u001B[39;00m\u001B[38;5;124m\"\u001B[39m\u001B[38;5;124m is \u001B[39m\u001B[38;5;124m'\u001B[39m\n\u001B[0;32m    107\u001B[0m         \u001B[38;5;124m'\u001B[39m\u001B[38;5;124mstrongly discouraged, as it violates Nominatim\u001B[39m\u001B[38;5;130;01m\\'\u001B[39;00m\u001B[38;5;124ms ToS \u001B[39m\u001B[38;5;124m'\u001B[39m\n\u001B[0;32m    108\u001B[0m         \u001B[38;5;124m'\u001B[39m\u001B[38;5;124mhttps://operations.osmfoundation.org/policies/nominatim/ \u001B[39m\u001B[38;5;124m'\u001B[39m\n\u001B[0;32m    109\u001B[0m         \u001B[38;5;124m'\u001B[39m\u001B[38;5;124mand may possibly cause 403 and 429 HTTP errors. \u001B[39m\u001B[38;5;124m'\u001B[39m\n\u001B[0;32m    110\u001B[0m         \u001B[38;5;124m'\u001B[39m\u001B[38;5;124mPlease specify a custom `user_agent` with \u001B[39m\u001B[38;5;124m'\u001B[39m\n\u001B[0;32m    111\u001B[0m         \u001B[38;5;124m'\u001B[39m\u001B[38;5;124m`Nominatim(user_agent=\u001B[39m\u001B[38;5;124m\"\u001B[39m\u001B[38;5;124mmy-application\u001B[39m\u001B[38;5;124m\"\u001B[39m\u001B[38;5;124m)` or by \u001B[39m\u001B[38;5;124m'\u001B[39m\n\u001B[0;32m    112\u001B[0m         \u001B[38;5;124m'\u001B[39m\u001B[38;5;124moverriding the default `user_agent`: \u001B[39m\u001B[38;5;124m'\u001B[39m\n\u001B[0;32m    113\u001B[0m         \u001B[38;5;124m'\u001B[39m\u001B[38;5;124m`geopy.geocoders.options.default_user_agent = \u001B[39m\u001B[38;5;124m\"\u001B[39m\u001B[38;5;124mmy-application\u001B[39m\u001B[38;5;124m\"\u001B[39m\u001B[38;5;124m`.\u001B[39m\u001B[38;5;124m'\u001B[39m\n\u001B[0;32m    114\u001B[0m         \u001B[38;5;241m%\u001B[39m \u001B[38;5;28mself\u001B[39m\u001B[38;5;241m.\u001B[39mheaders[\u001B[38;5;124m'\u001B[39m\u001B[38;5;124mUser-Agent\u001B[39m\u001B[38;5;124m'\u001B[39m]\n\u001B[0;32m    115\u001B[0m     )\n\u001B[0;32m    117\u001B[0m \u001B[38;5;28mself\u001B[39m\u001B[38;5;241m.\u001B[39mapi \u001B[38;5;241m=\u001B[39m \u001B[38;5;124m\"\u001B[39m\u001B[38;5;132;01m%s\u001B[39;00m\u001B[38;5;124m://\u001B[39m\u001B[38;5;132;01m%s\u001B[39;00m\u001B[38;5;132;01m%s\u001B[39;00m\u001B[38;5;124m\"\u001B[39m \u001B[38;5;241m%\u001B[39m (\u001B[38;5;28mself\u001B[39m\u001B[38;5;241m.\u001B[39mscheme, \u001B[38;5;28mself\u001B[39m\u001B[38;5;241m.\u001B[39mdomain, \u001B[38;5;28mself\u001B[39m\u001B[38;5;241m.\u001B[39mgeocode_path)\n\u001B[0;32m    118\u001B[0m \u001B[38;5;28mself\u001B[39m\u001B[38;5;241m.\u001B[39mreverse_api \u001B[38;5;241m=\u001B[39m \u001B[38;5;124m\"\u001B[39m\u001B[38;5;132;01m%s\u001B[39;00m\u001B[38;5;124m://\u001B[39m\u001B[38;5;132;01m%s\u001B[39;00m\u001B[38;5;132;01m%s\u001B[39;00m\u001B[38;5;124m\"\u001B[39m \u001B[38;5;241m%\u001B[39m (\u001B[38;5;28mself\u001B[39m\u001B[38;5;241m.\u001B[39mscheme, \u001B[38;5;28mself\u001B[39m\u001B[38;5;241m.\u001B[39mdomain, \u001B[38;5;28mself\u001B[39m\u001B[38;5;241m.\u001B[39mreverse_path)\n",
      "\u001B[1;31mConfigurationError\u001B[0m: Using Nominatim with default or sample `user_agent` \"geopy/2.4.0\" is strongly discouraged, as it violates Nominatim's ToS https://operations.osmfoundation.org/policies/nominatim/ and may possibly cause 403 and 429 HTTP errors. Please specify a custom `user_agent` with `Nominatim(user_agent=\"my-application\")` or by overriding the default `user_agent`: `geopy.geocoders.options.default_user_agent = \"my-application\"`."
     ]
    }
   ],
   "source": [
    "nom = Nominatim()"
   ]
  },
  {
   "cell_type": "markdown",
   "id": "77914ce8-b524-4608-83ac-57fc8114fa7c",
   "metadata": {},
   "source": [
    "## Getting truck networks"
   ]
  },
  {
   "cell_type": "code",
   "execution_count": 17,
   "id": "1c6f3ec3-1f7f-4838-97ed-c708a79d44bf",
   "metadata": {},
   "outputs": [
    {
     "data": {
      "text/html": [
       "<div>\n",
       "<style scoped>\n",
       "    .dataframe tbody tr th:only-of-type {\n",
       "        vertical-align: middle;\n",
       "    }\n",
       "\n",
       "    .dataframe tbody tr th {\n",
       "        vertical-align: top;\n",
       "    }\n",
       "\n",
       "    .dataframe thead th {\n",
       "        text-align: right;\n",
       "    }\n",
       "</style>\n",
       "<table border=\"1\" class=\"dataframe\">\n",
       "  <thead>\n",
       "    <tr style=\"text-align: right;\">\n",
       "      <th></th>\n",
       "      <th>CLASS</th>\n",
       "      <th>ROUTE</th>\n",
       "      <th>LOCATION FROM - TO</th>\n",
       "    </tr>\n",
       "  </thead>\n",
       "  <tbody>\n",
       "    <tr>\n",
       "      <th>0</th>\n",
       "      <td>I</td>\n",
       "      <td>IL 3</td>\n",
       "      <td>INT 255(S. Jct) to INT 255(N. Jct.)</td>\n",
       "    </tr>\n",
       "    <tr>\n",
       "      <th>1</th>\n",
       "      <td>I</td>\n",
       "      <td>IL 3</td>\n",
       "      <td>INT 55(S. Jct) to INT 55(N. Jct.)</td>\n",
       "    </tr>\n",
       "    <tr>\n",
       "      <th>2</th>\n",
       "      <td>I</td>\n",
       "      <td>IL 6</td>\n",
       "      <td>INT 74 to IL 29</td>\n",
       "    </tr>\n",
       "    <tr>\n",
       "      <th>3</th>\n",
       "      <td>I</td>\n",
       "      <td>IL 26</td>\n",
       "      <td>INT 180(E. Jct.) to INT 180(W. Jct.)</td>\n",
       "    </tr>\n",
       "    <tr>\n",
       "      <th>4</th>\n",
       "      <td>I</td>\n",
       "      <td>IL 29</td>\n",
       "      <td>INT 74 Exit 93 to Exit 95</td>\n",
       "    </tr>\n",
       "  </tbody>\n",
       "</table>\n",
       "</div>"
      ],
      "text/plain": [
       "  CLASS  ROUTE                    LOCATION FROM - TO\n",
       "0     I   IL 3   INT 255(S. Jct) to INT 255(N. Jct.)\n",
       "1     I   IL 3     INT 55(S. Jct) to INT 55(N. Jct.)\n",
       "2     I   IL 6                       INT 74 to IL 29\n",
       "3     I  IL 26  INT 180(E. Jct.) to INT 180(W. Jct.)\n",
       "4     I  IL 29             INT 74 Exit 93 to Exit 95"
      ]
     },
     "execution_count": 17,
     "metadata": {},
     "output_type": "execute_result"
    }
   ],
   "source": [
    "df = pd.read_csv('data/truck_routes.csv')\n",
    "df.head()"
   ]
  },
  {
   "cell_type": "code",
   "execution_count": 18,
   "id": "6a6d84bc-2820-4ba3-a076-187fd42c4571",
   "metadata": {},
   "outputs": [
    {
     "data": {
      "text/html": [
       "<div>\n",
       "<style scoped>\n",
       "    .dataframe tbody tr th:only-of-type {\n",
       "        vertical-align: middle;\n",
       "    }\n",
       "\n",
       "    .dataframe tbody tr th {\n",
       "        vertical-align: top;\n",
       "    }\n",
       "\n",
       "    .dataframe thead th {\n",
       "        text-align: right;\n",
       "    }\n",
       "</style>\n",
       "<table border=\"1\" class=\"dataframe\">\n",
       "  <thead>\n",
       "    <tr style=\"text-align: right;\">\n",
       "      <th></th>\n",
       "      <th>CLASS</th>\n",
       "      <th>ROUTE</th>\n",
       "      <th>FROM</th>\n",
       "      <th>TO</th>\n",
       "    </tr>\n",
       "  </thead>\n",
       "  <tbody>\n",
       "    <tr>\n",
       "      <th>0</th>\n",
       "      <td>I</td>\n",
       "      <td>IL 3</td>\n",
       "      <td>INT 255(S. Jct)</td>\n",
       "      <td>INT 255(N. Jct.)</td>\n",
       "    </tr>\n",
       "    <tr>\n",
       "      <th>1</th>\n",
       "      <td>I</td>\n",
       "      <td>IL 3</td>\n",
       "      <td>INT 55(S. Jct)</td>\n",
       "      <td>INT 55(N. Jct.)</td>\n",
       "    </tr>\n",
       "    <tr>\n",
       "      <th>2</th>\n",
       "      <td>I</td>\n",
       "      <td>IL 6</td>\n",
       "      <td>INT 74</td>\n",
       "      <td>IL 29</td>\n",
       "    </tr>\n",
       "    <tr>\n",
       "      <th>3</th>\n",
       "      <td>I</td>\n",
       "      <td>IL 26</td>\n",
       "      <td>INT 180(E. Jct.)</td>\n",
       "      <td>INT 180(W. Jct.)</td>\n",
       "    </tr>\n",
       "    <tr>\n",
       "      <th>4</th>\n",
       "      <td>I</td>\n",
       "      <td>IL 29</td>\n",
       "      <td>INT 74 Exit 93</td>\n",
       "      <td>Exit 95</td>\n",
       "    </tr>\n",
       "  </tbody>\n",
       "</table>\n",
       "</div>"
      ],
      "text/plain": [
       "  CLASS  ROUTE              FROM                TO\n",
       "0     I   IL 3   INT 255(S. Jct)  INT 255(N. Jct.)\n",
       "1     I   IL 3    INT 55(S. Jct)   INT 55(N. Jct.)\n",
       "2     I   IL 6            INT 74             IL 29\n",
       "3     I  IL 26  INT 180(E. Jct.)  INT 180(W. Jct.)\n",
       "4     I  IL 29    INT 74 Exit 93           Exit 95"
      ]
     },
     "execution_count": 18,
     "metadata": {},
     "output_type": "execute_result"
    }
   ],
   "source": [
    "df[['FROM', 'TO']] = df['LOCATION FROM - TO'].str.split(' to ', expand=True)\n",
    "df = df.drop(columns=['LOCATION FROM - TO'])\n",
    "df.head()"
   ]
  },
  {
   "cell_type": "code",
   "execution_count": null,
   "id": "922cdfac-76cf-47c4-8a0b-e63adda92f7f",
   "metadata": {},
   "outputs": [],
   "source": []
  }
 ],
 "metadata": {
  "kernelspec": {
   "display_name": "Python 3 (ipykernel)",
   "language": "python",
   "name": "python3"
  },
  "language_info": {
   "codemirror_mode": {
    "name": "ipython",
    "version": 3
   },
   "file_extension": ".py",
   "mimetype": "text/x-python",
   "name": "python",
   "nbconvert_exporter": "python",
   "pygments_lexer": "ipython3",
   "version": "3.10.13"
  },
  "varInspector": {
   "cols": {
    "lenName": 16,
    "lenType": 16,
    "lenVar": 40
   },
   "kernels_config": {
    "python": {
     "delete_cmd_postfix": "",
     "delete_cmd_prefix": "del ",
     "library": "var_list.py",
     "varRefreshCmd": "print(var_dic_list())"
    },
    "r": {
     "delete_cmd_postfix": ") ",
     "delete_cmd_prefix": "rm(",
     "library": "var_list.r",
     "varRefreshCmd": "cat(var_dic_list()) "
    }
   },
   "types_to_exclude": [
    "module",
    "function",
    "builtin_function_or_method",
    "instance",
    "_Feature"
   ],
   "window_display": false
  }
 },
 "nbformat": 4,
 "nbformat_minor": 5
}