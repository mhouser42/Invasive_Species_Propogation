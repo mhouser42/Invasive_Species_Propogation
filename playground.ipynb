{
 "cells": [
  {
   "cell_type": "markdown",
   "id": "7a4da801-f967-4ddc-a965-a060d2c9d83f",
   "metadata": {
    "pycharm": {
     "name": "#%% md\n"
    }
   },
   "source": [
    "# OSMnx practice\n",
    "## Import libraries"
   ]
  },
  {
   "cell_type": "code",
   "execution_count": 21,
   "id": "6b9c28a5",
   "metadata": {
    "collapsed": false,
    "jupyter": {
     "outputs_hidden": false
    },
    "pycharm": {
     "name": "#%%\n"
    }
   },
   "outputs": [
    {
     "data": {
      "text/plain": [
       "'1.7.1'"
      ]
     },
     "execution_count": 21,
     "metadata": {},
     "output_type": "execute_result"
    }
   ],
   "source": [
    "import pandas as pd\n",
    "\n",
    "import networkx as nx\n",
    "import osmnx as ox\n",
    "%matplotlib inline\n",
    "ox.__version__"
   ]
  },
  {
   "cell_type": "markdown",
   "id": "63b475df",
   "metadata": {
    "collapsed": false,
    "jupyter": {
     "outputs_hidden": false
    },
    "pycharm": {
     "name": "#%% md\n"
    }
   },
   "source": [
    "## loading"
   ]
  },
  {
   "cell_type": "code",
   "execution_count": 22,
   "id": "aff35e38",
   "metadata": {
    "collapsed": false,
    "jupyter": {
     "outputs_hidden": false
    },
    "pycharm": {
     "name": "#%%\n"
    }
   },
   "outputs": [],
   "source": [
    "G = ox.geocode_to_gdf('Illinois, USA')"
   ]
  },
  {
   "cell_type": "code",
   "execution_count": null,
   "id": "81c332a7-e12d-404c-b0d1-86bc9305bb56",
   "metadata": {
    "pycharm": {
     "name": "#%%\n"
    }
   },
   "outputs": [],
   "source": []
  },
  {
   "cell_type": "markdown",
   "id": "77914ce8-b524-4608-83ac-57fc8114fa7c",
   "metadata": {
    "pycharm": {
     "name": "#%% md\n"
    }
   },
   "source": [
    "## exploring Tree of Heaven data"
   ]
  },
  {
   "cell_type": "code",
   "execution_count": 48,
   "id": "1c6f3ec3-1f7f-4838-97ed-c708a79d44bf",
   "metadata": {
    "pycharm": {
     "name": "#%%\n"
    }
   },
   "outputs": [
    {
     "name": "stdout",
     "output_type": "stream",
     "text": [
      "<class 'pandas.core.frame.DataFrame'>\n",
      "RangeIndex: 46199 entries, 0 to 46198\n",
      "Data columns (total 79 columns):\n",
      " #   Column      Non-Null Count  Dtype  \n",
      "---  ------      --------------  -----  \n",
      " 0   objectid    46199 non-null  int64  \n",
      " 1   reporter    46197 non-null  object \n",
      " 2   RecOwner    46158 non-null  object \n",
      " 3   SciName     46199 non-null  object \n",
      " 4   ComName     46199 non-null  object \n",
      " 5   Nativity    46199 non-null  object \n",
      " 6   OccStatus   46199 non-null  object \n",
      " 7   Status      46199 non-null  object \n",
      " 8   ObsDate     44367 non-null  object \n",
      " 9   DateEnt     46199 non-null  object \n",
      " 10  DateUp      30546 non-null  object \n",
      " 11  Location    46199 non-null  object \n",
      " 12  Latitude    37169 non-null  float64\n",
      " 13  Longitude   37169 non-null  float64\n",
      " 14  Datum       36646 non-null  object \n",
      " 15  Method      5503 non-null   object \n",
      " 16  CoordAcc    10390 non-null  float64\n",
      " 17  DataType    0 non-null      float64\n",
      " 18  Centroid    364 non-null    object \n",
      " 19  Abundance   0 non-null      float64\n",
      " 20  InfestAcre  21495 non-null  float64\n",
      " 21  GrossAcre   19633 non-null  float64\n",
      " 22  Percentcov  7900 non-null   object \n",
      " 23  Density     3820 non-null   object \n",
      " 24  Quantity    243 non-null    float64\n",
      " 25  QuantityU   243 non-null    object \n",
      " 26  APPXQuant   3230 non-null   object \n",
      " 27  NumCollect  27 non-null     object \n",
      " 28  Smallest    0 non-null      float64\n",
      " 29  Largest     0 non-null      float64\n",
      " 30  Incidence   0 non-null      float64\n",
      " 31  Severity    0 non-null      float64\n",
      " 32  Host        0 non-null      float64\n",
      " 33  Host_Name   0 non-null      float64\n",
      " 34  HostPheno   0 non-null      float64\n",
      " 35  HostDamage  0 non-null      float64\n",
      " 36  ManageStat  42123 non-null  object \n",
      " 37  PopStat     0 non-null      float64\n",
      " 38  Habitat     4498 non-null   object \n",
      " 39  LocalOwner  3096 non-null   object \n",
      " 40  Site        373 non-null    object \n",
      " 41  RecBasis    13167 non-null  object \n",
      " 42  Museum      67 non-null     object \n",
      " 43  MuseumRec   68 non-null     object \n",
      " 44  Voucher     4057 non-null   float64\n",
      " 45  ObsIDer     4887 non-null   object \n",
      " 46  CollectTme  2078 non-null   float64\n",
      " 47  UUID        11102 non-null  object \n",
      " 48  OrgSrcID    26811 non-null  object \n",
      " 49  OrigName    28604 non-null  object \n",
      " 50  RecSrcTyp   46199 non-null  object \n",
      " 51  Surveyor    28149 non-null  object \n",
      " 52  DateAcc     2 non-null      float64\n",
      " 53  VisitType   864 non-null    object \n",
      " 54  DataMthd    129 non-null    object \n",
      " 55  TrapType    0 non-null      float64\n",
      " 56  NumTraps    0 non-null      float64\n",
      " 57  TargetName  0 non-null      float64\n",
      " 58  TargetCnt   0 non-null      float64\n",
      " 59  TargetRnge  0 non-null      float64\n",
      " 60  Phenology   3934 non-null   object \n",
      " 61  LifeStatus  112 non-null    object \n",
      " 62  Sex         0 non-null      float64\n",
      " 63  PID         24735 non-null  object \n",
      " 64  WaterName   0 non-null      float64\n",
      " 65  WaterType   107 non-null    float64\n",
      " 66  Substrate   107 non-null    float64\n",
      " 67  TreatArea   0 non-null      float64\n",
      " 68  PlantTreat  0 non-null      float64\n",
      " 69  TreatComm   3488 non-null   object \n",
      " 70  Reference   10217 non-null  object \n",
      " 71  Locality    5715 non-null   object \n",
      " 72  Comments    20217 non-null  object \n",
      " 73  ReviewDate  13993 non-null  object \n",
      " 74  Reviewer    8510 non-null   object \n",
      " 75  VerifyMthd  13765 non-null  object \n",
      " 76  Verified    46199 non-null  object \n",
      " 77  IDCred      9097 non-null   object \n",
      " 78  ReviewComm  12579 non-null  object \n",
      "dtypes: float64(31), int64(1), object(47)\n",
      "memory usage: 27.8+ MB\n"
     ]
    },
    {
     "name": "stderr",
     "output_type": "stream",
     "text": [
      "C:\\Users\\mhous\\AppData\\Local\\Temp\\ipykernel_10308\\4145237543.py:2: DtypeWarning: Columns (18,25,26,27,40,41,42,43,47,53,54,61,63) have mixed types. Specify dtype option on import or set low_memory=False.\n",
      "  df = pd.read_csv(f'{path}/mappings.csv', encoding='latin-1')\n"
     ]
    }
   ],
   "source": [
    "path = 'data/tree'\n",
    "df = pd.read_csv(f'{path}/mappings.csv', encoding='latin-1')\n",
    "rev_df = pd.read_csv(f'{path}/revisits.csv')\n",
    "df.info()"
   ]
  },
  {
   "cell_type": "code",
   "execution_count": 36,
   "id": "6a6d84bc-2820-4ba3-a076-187fd42c4571",
   "metadata": {
    "pycharm": {
     "name": "#%%\n"
    }
   },
   "outputs": [
    {
     "name": "stdout",
     "output_type": "stream",
     "text": [
      "<class 'pandas.core.frame.DataFrame'>\n",
      "RangeIndex: 46199 entries, 0 to 46198\n",
      "Data columns (total 12 columns):\n",
      " #   Column      Non-Null Count  Dtype  \n",
      "---  ------      --------------  -----  \n",
      " 0   objectid    46199 non-null  int64  \n",
      " 1   Status      46199 non-null  object \n",
      " 2   ObsDate     44367 non-null  object \n",
      " 3   DateEnt     46199 non-null  object \n",
      " 4   DateUp      30546 non-null  object \n",
      " 5   Location    46199 non-null  object \n",
      " 6   Latitude    37169 non-null  float64\n",
      " 7   Longitude   37169 non-null  float64\n",
      " 8   InfestAcre  21495 non-null  float64\n",
      " 9   Density     3820 non-null   object \n",
      " 10  Habitat     4498 non-null   object \n",
      " 11  Verified    46199 non-null  object \n",
      "dtypes: float64(3), int64(1), object(8)\n",
      "memory usage: 4.2+ MB\n"
     ]
    }
   ],
   "source": [
    "df = df[['objectid', 'Status',\n",
    "         'ObsDate', 'DateEnt', 'DateUp',\n",
    "         'Location', 'Latitude', 'Longitude',\n",
    "         'InfestAcre', 'Density', 'Habitat', 'Verified']]\n",
    "df.info()"
   ]
  },
  {
   "cell_type": "code",
   "execution_count": 45,
   "id": "922cdfac-76cf-47c4-8a0b-e63adda92f7f",
   "metadata": {
    "pycharm": {
     "name": "#%%\n"
    }
   },
   "outputs": [
    {
     "name": "stdout",
     "output_type": "stream",
     "text": [
      "<class 'pandas.core.frame.DataFrame'>\n",
      "Index: 2647 entries, 30 to 46146\n",
      "Data columns (total 12 columns):\n",
      " #   Column      Non-Null Count  Dtype  \n",
      "---  ------      --------------  -----  \n",
      " 0   objectid    2647 non-null   int64  \n",
      " 1   Status      2647 non-null   object \n",
      " 2   ObsDate     2503 non-null   object \n",
      " 3   DateEnt     2647 non-null   object \n",
      " 4   DateUp      1850 non-null   object \n",
      " 5   Location    2647 non-null   object \n",
      " 6   Latitude    2489 non-null   float64\n",
      " 7   Longitude   2489 non-null   float64\n",
      " 8   InfestAcre  1151 non-null   float64\n",
      " 9   Density     1315 non-null   object \n",
      " 10  Habitat     958 non-null    object \n",
      " 11  Verified    2647 non-null   object \n",
      "dtypes: float64(3), int64(1), object(8)\n",
      "memory usage: 268.8+ KB\n"
     ]
    }
   ],
   "source": [
    "IL_df = df[(df['Location'].str.contains('Illinois')) & (df['Status'] == 'Positive')]\n",
    "IL_df.info()"
   ]
  },
  {
   "cell_type": "code",
   "execution_count": null,
   "id": "19efca51-7b47-4b30-a320-e37bd8814994",
   "metadata": {},
   "outputs": [],
   "source": []
  }
 ],
 "metadata": {
  "kernelspec": {
   "display_name": "Python 3 (ipykernel)",
   "language": "python",
   "name": "python3"
  },
  "language_info": {
   "codemirror_mode": {
    "name": "ipython",
    "version": 3
   },
   "file_extension": ".py",
   "mimetype": "text/x-python",
   "name": "python",
   "nbconvert_exporter": "python",
   "pygments_lexer": "ipython3",
   "version": "3.10.13"
  },
  "varInspector": {
   "cols": {
    "lenName": 16,
    "lenType": 16,
    "lenVar": 40
   },
   "kernels_config": {
    "python": {
     "delete_cmd_postfix": "",
     "delete_cmd_prefix": "del ",
     "library": "var_list.py",
     "varRefreshCmd": "print(var_dic_list())"
    },
    "r": {
     "delete_cmd_postfix": ") ",
     "delete_cmd_prefix": "rm(",
     "library": "var_list.r",
     "varRefreshCmd": "cat(var_dic_list()) "
    }
   },
   "types_to_exclude": [
    "module",
    "function",
    "builtin_function_or_method",
    "instance",
    "_Feature"
   ],
   "window_display": false
  }
 },
 "nbformat": 4,
 "nbformat_minor": 5
}
